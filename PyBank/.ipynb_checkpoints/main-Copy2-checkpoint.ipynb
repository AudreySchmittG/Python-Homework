{
 "cells": [
  {
   "cell_type": "code",
   "execution_count": 26,
   "id": "39aab212-d836-4d49-be6a-9a8dc2a79319",
   "metadata": {},
   "outputs": [],
   "source": [
    "import csv\n"
   ]
  },
  {
   "cell_type": "code",
   "execution_count": 27,
   "id": "bd71b7ad-2a9c-4d2d-a35b-d19e4df381ab",
   "metadata": {},
   "outputs": [],
   "source": [
    "f = open('PyBank_budget_data.csv')"
   ]
  },
  {
   "cell_type": "code",
   "execution_count": 28,
   "id": "288159dc-24e2-4690-b406-dbb85a66f7d8",
   "metadata": {},
   "outputs": [],
   "source": [
    "csv_f = csv.reader(f)"
   ]
  },
  {
   "cell_type": "code",
   "execution_count": 29,
   "id": "4d42a60c-9f73-41ea-9c73-64bb5d5156e4",
   "metadata": {},
   "outputs": [],
   "source": [
    "Months = []\n",
    "profit_losses = []\n",
    "\n"
   ]
  },
  {
   "cell_type": "code",
   "execution_count": 30,
   "id": "79b3cee7-5190-4a79-ac4c-818ffae0b464",
   "metadata": {},
   "outputs": [
    {
     "name": "stdout",
     "output_type": "stream",
     "text": [
      "['Date', 'Profit/Losses']\n"
     ]
    }
   ],
   "source": [
    "csv_header = next(csv_f)\n",
    "\n",
    "print(csv_header)"
   ]
  },
  {
   "cell_type": "code",
   "execution_count": 31,
   "id": "38dbf9f4-cc75-4304-81c2-7c7fe995a7c5",
   "metadata": {},
   "outputs": [],
   "source": [
    "for row in csv_f:\n",
    "    Months.append(row[0])\n",
    "    profit_losses.append (row[1])\n"
   ]
  },
  {
   "cell_type": "code",
   "execution_count": 32,
   "id": "feb37e26-c6b6-4604-91c9-1e335de9ff8b",
   "metadata": {},
   "outputs": [
    {
     "name": "stdout",
     "output_type": "stream",
     "text": [
      "['Jan-2010', 'Feb-2010', 'Mar-2010', 'Apr-2010', 'May-2010', 'Jun-2010', 'Jul-2010', 'Aug-2010', 'Sep-2010', 'Oct-2010', 'Nov-2010', 'Dec-2010', 'Jan-2011', 'Feb-2011', 'Mar-2011', 'Apr-2011', 'May-2011', 'Jun-2011', 'Jul-2011', 'Aug-2011', 'Sep-2011', 'Oct-2011', 'Nov-2011', 'Dec-2011', 'Jan-2012', 'Feb-2012', 'Mar-2012', 'Apr-2012', 'May-2012', 'Jun-2012', 'Jul-2012', 'Aug-2012', 'Sep-2012', 'Oct-2012', 'Nov-2012', 'Dec-2012', 'Jan-2013', 'Feb-2013', 'Mar-2013', 'Apr-2013', 'May-2013', 'Jun-2013', 'Jul-2013', 'Aug-2013', 'Sep-2013', 'Oct-2013', 'Nov-2013', 'Dec-2013', 'Jan-2014', 'Feb-2014', 'Mar-2014', 'Apr-2014', 'May-2014', 'Jun-2014', 'Jul-2014', 'Aug-2014', 'Sep-2014', 'Oct-2014', 'Nov-2014', 'Dec-2014', 'Jan-2015', 'Feb-2015', 'Mar-2015', 'Apr-2015', 'May-2015', 'Jun-2015', 'Jul-2015', 'Aug-2015', 'Sep-2015', 'Oct-2015', 'Nov-2015', 'Dec-2015', 'Jan-2016', 'Feb-2016', 'Mar-2016', 'Apr-2016', 'May-2016', 'Jun-2016', 'Jul-2016', 'Aug-2016', 'Sep-2016', 'Oct-2016', 'Nov-2016', 'Dec-2016', 'Jan-2017', 'Feb-2017']\n"
     ]
    }
   ],
   "source": [
    "print (Months)"
   ]
  },
  {
   "cell_type": "code",
   "execution_count": 33,
   "id": "207fc035-c303-49d7-aa92-2db7e0c99476",
   "metadata": {},
   "outputs": [
    {
     "name": "stdout",
     "output_type": "stream",
     "text": [
      "['867884', '984655', '322013', '-69417', '310503', '522857', '1033096', '604885', '-216386', '477532', '893810', '-80353', '779806', '-335203', '697845', '793163', '485070', '584122', '62729', '668179', '899906', '834719', '132003', '309978', '-755566', '1170593', '252788', '1151518', '817256', '570757', '506702', '-1022534', '475062', '779976', '144175', '542494', '359333', '321469', '67780', '471435', '565603', '872480', '789480', '999942', '-1196225', '268997', '-687986', '1150461', '682458', '617856', '824098', '581943', '132864', '448062', '689161', '800701', '1166643', '947333', '578668', '988505', '1139715', '1029471', '687533', '-524626', '158620', '87795', '423389', '840723', '568529', '332067', '989499', '778237', '650000', '-1100387', '-174946', '757143', '445709', '712961', '-1163797', '569899', '768450', '102685', '795914', '60988', '138230', '671099']\n"
     ]
    }
   ],
   "source": [
    "print (profit_losses)"
   ]
  },
  {
   "cell_type": "code",
   "execution_count": 34,
   "id": "8891fa3b-8ba3-4e84-bc2b-dd57213347dc",
   "metadata": {},
   "outputs": [
    {
     "name": "stdout",
     "output_type": "stream",
     "text": [
      "86\n",
      "86\n"
     ]
    }
   ],
   "source": [
    "print (len(Months))\n",
    "print (len(profit_losses))\n"
   ]
  },
  {
   "cell_type": "code",
   "execution_count": 35,
   "id": "2db163f8-e7f5-4eb8-b228-258ee5b2224f",
   "metadata": {},
   "outputs": [
    {
     "name": "stdout",
     "output_type": "stream",
     "text": [
      "[867884, 984655, 322013, -69417, 310503, 522857, 1033096, 604885, -216386, 477532, 893810, -80353, 779806, -335203, 697845, 793163, 485070, 584122, 62729, 668179, 899906, 834719, 132003, 309978, -755566, 1170593, 252788, 1151518, 817256, 570757, 506702, -1022534, 475062, 779976, 144175, 542494, 359333, 321469, 67780, 471435, 565603, 872480, 789480, 999942, -1196225, 268997, -687986, 1150461, 682458, 617856, 824098, 581943, 132864, 448062, 689161, 800701, 1166643, 947333, 578668, 988505, 1139715, 1029471, 687533, -524626, 158620, 87795, 423389, 840723, 568529, 332067, 989499, 778237, 650000, -1100387, -174946, 757143, 445709, 712961, -1163797, 569899, 768450, 102685, 795914, 60988, 138230, 671099]\n"
     ]
    }
   ],
   "source": [
    "\n",
    "ints = [int(item) for item in profit_losses]\n",
    "print(ints)"
   ]
  },
  {
   "cell_type": "code",
   "execution_count": 36,
   "id": "ed4df822-0f6b-4eb0-9d38-5f1dd9014e3e",
   "metadata": {},
   "outputs": [
    {
     "ename": "TypeError",
     "evalue": "'int' object is not callable",
     "output_type": "error",
     "traceback": [
      "\u001b[0;31m---------------------------------------------------------------------------\u001b[0m",
      "\u001b[0;31mTypeError\u001b[0m                                 Traceback (most recent call last)",
      "\u001b[0;32m<ipython-input-36-e892812f71ce>\u001b[0m in \u001b[0;36m<module>\u001b[0;34m\u001b[0m\n\u001b[0;32m----> 1\u001b[0;31m \u001b[0msum\u001b[0m\u001b[0;34m(\u001b[0m\u001b[0mints\u001b[0m\u001b[0;34m)\u001b[0m\u001b[0;34m\u001b[0m\u001b[0;34m\u001b[0m\u001b[0m\n\u001b[0m",
      "\u001b[0;31mTypeError\u001b[0m: 'int' object is not callable"
     ]
    }
   ],
   "source": [
    "sum(ints)\n"
   ]
  },
  {
   "cell_type": "code",
   "execution_count": 51,
   "id": "96f807c9-ee1d-4a3c-b539-8df96e8c994c",
   "metadata": {},
   "outputs": [
    {
     "data": {
      "text/plain": [
       "[-1196225,\n",
       " -1163797,\n",
       " -1100387,\n",
       " -1022534,\n",
       " -755566,\n",
       " -687986,\n",
       " -524626,\n",
       " -335203,\n",
       " -216386,\n",
       " -174946,\n",
       " -80353,\n",
       " -69417,\n",
       " 60988,\n",
       " 62729,\n",
       " 67780,\n",
       " 87795,\n",
       " 102685,\n",
       " 132003,\n",
       " 132864,\n",
       " 138230,\n",
       " 144175,\n",
       " 158620,\n",
       " 252788,\n",
       " 268997,\n",
       " 309978,\n",
       " 310503,\n",
       " 321469,\n",
       " 322013,\n",
       " 332067,\n",
       " 359333,\n",
       " 423389,\n",
       " 445709,\n",
       " 448062,\n",
       " 471435,\n",
       " 475062,\n",
       " 477532,\n",
       " 485070,\n",
       " 506702,\n",
       " 522857,\n",
       " 542494,\n",
       " 565603,\n",
       " 568529,\n",
       " 569899,\n",
       " 570757,\n",
       " 578668,\n",
       " 581943,\n",
       " 584122,\n",
       " 604885,\n",
       " 617856,\n",
       " 650000,\n",
       " 668179,\n",
       " 671099,\n",
       " 682458,\n",
       " 687533,\n",
       " 689161,\n",
       " 697845,\n",
       " 712961,\n",
       " 757143,\n",
       " 768450,\n",
       " 778237,\n",
       " 779806,\n",
       " 779976,\n",
       " 789480,\n",
       " 793163,\n",
       " 795914,\n",
       " 800701,\n",
       " 817256,\n",
       " 824098,\n",
       " 834719,\n",
       " 840723,\n",
       " 867884,\n",
       " 872480,\n",
       " 893810,\n",
       " 899906,\n",
       " 947333,\n",
       " 984655,\n",
       " 988505,\n",
       " 989499,\n",
       " 999942,\n",
       " 1029471,\n",
       " 1033096,\n",
       " 1139715,\n",
       " 1150461,\n",
       " 1151518,\n",
       " 1166643,\n",
       " 1170593]"
      ]
     },
     "execution_count": 51,
     "metadata": {},
     "output_type": "execute_result"
    }
   ],
   "source": [
    "index  = ints\n",
    "index\n",
    "\n",
    "\n"
   ]
  },
  {
   "cell_type": "code",
   "execution_count": 38,
   "id": "cad24a2a-f29e-44e1-a5a5-dd4653e8aae0",
   "metadata": {},
   "outputs": [
    {
     "name": "stdout",
     "output_type": "stream",
     "text": [
      "[-1196225, -1163797, -1100387, -1022534, -755566, -687986, -524626, -335203, -216386, -174946, -80353, -69417, 60988, 62729, 67780, 87795, 102685, 132003, 132864, 138230, 144175, 158620, 252788, 268997, 309978, 310503, 321469, 322013, 332067, 359333, 423389, 445709, 448062, 471435, 475062, 477532, 485070, 506702, 522857, 542494, 565603, 568529, 569899, 570757, 578668, 581943, 584122, 604885, 617856, 650000, 668179, 671099, 682458, 687533, 689161, 697845, 712961, 757143, 768450, 778237, 779806, 779976, 789480, 793163, 795914, 800701, 817256, 824098, 834719, 840723, 867884, 872480, 893810, 899906, 947333, 984655, 988505, 989499, 999942, 1029471, 1033096, 1139715, 1150461, 1151518, 1166643, 1170593]\n"
     ]
    }
   ],
   "source": [
    "\n",
    "for x in range(0,90):\n",
    "    ints.sort(key=int)\n",
    "\n",
    "print(ints)"
   ]
  },
  {
   "cell_type": "code",
   "execution_count": 39,
   "id": "e1b8270d-c459-49e4-bcde-88c393dba583",
   "metadata": {},
   "outputs": [
    {
     "name": "stdout",
     "output_type": "stream",
     "text": [
      "-7327426\n"
     ]
    }
   ],
   "source": [
    "sum = 0\n",
    "for number in ints:\n",
    "    if number < 0:\n",
    "        sum += number\n",
    "        \n",
    "print(sum)"
   ]
  },
  {
   "cell_type": "code",
   "execution_count": 40,
   "id": "93e09bb4-7d61-4ebc-9524-3f079681382c",
   "metadata": {},
   "outputs": [
    {
     "name": "stdout",
     "output_type": "stream",
     "text": [
      "45710004\n"
     ]
    }
   ],
   "source": [
    "sum = 0\n",
    "for number in ints:\n",
    "    if number > 0:\n",
    "        sum += number\n",
    "        \n",
    "print(sum)"
   ]
  },
  {
   "cell_type": "code",
   "execution_count": null,
   "id": "a6f66e40-1d6e-4ec2-be3d-eec2af6300b0",
   "metadata": {},
   "outputs": [],
   "source": []
  },
  {
   "cell_type": "code",
   "execution_count": 41,
   "id": "3baeeb60-fc7a-4175-b6c1-ac83d40bce2a",
   "metadata": {},
   "outputs": [
    {
     "ename": "NameError",
     "evalue": "name 'avg_calc' is not defined",
     "output_type": "error",
     "traceback": [
      "\u001b[0;31m---------------------------------------------------------------------------\u001b[0m",
      "\u001b[0;31mNameError\u001b[0m                                 Traceback (most recent call last)",
      "\u001b[0;32m<ipython-input-41-ce9dbd4c0d99>\u001b[0m in \u001b[0;36m<module>\u001b[0;34m\u001b[0m\n\u001b[1;32m      2\u001b[0m     \u001b[0mavg_calc\u001b[0m \u001b[0;34m=\u001b[0m \u001b[0;34m[\u001b[0m\u001b[0mindex\u001b[0m\u001b[0;34m(\u001b[0m\u001b[0;34m)\u001b[0m \u001b[0;34m-\u001b[0m \u001b[0mindex\u001b[0m\u001b[0;34m(\u001b[0m\u001b[0;34m-\u001b[0m\u001b[0;36m1\u001b[0m\u001b[0;34m)\u001b[0m \u001b[0;34m/\u001b[0m \u001b[0;34m(\u001b[0m\u001b[0mlen\u001b[0m\u001b[0;34m(\u001b[0m\u001b[0mMonths\u001b[0m\u001b[0;34m)\u001b[0m \u001b[0;34m-\u001b[0m \u001b[0;36m1\u001b[0m\u001b[0;34m)\u001b[0m\u001b[0;34m]\u001b[0m\u001b[0;34m\u001b[0m\u001b[0;34m\u001b[0m\u001b[0m\n\u001b[1;32m      3\u001b[0m     \u001b[0;32mreturn\u001b[0m \u001b[0mavg_calc\u001b[0m\u001b[0;34m\u001b[0m\u001b[0;34m\u001b[0m\u001b[0m\n\u001b[0;32m----> 4\u001b[0;31m \u001b[0mprint\u001b[0m\u001b[0;34m(\u001b[0m\u001b[0mavg_calc\u001b[0m\u001b[0;34m)\u001b[0m\u001b[0;34m\u001b[0m\u001b[0;34m\u001b[0m\u001b[0m\n\u001b[0m",
      "\u001b[0;31mNameError\u001b[0m: name 'avg_calc' is not defined"
     ]
    }
   ],
   "source": [
    "def average_change(first, last):\n",
    "    avg_calc = [index() - index(-1) / (len(Months) - 1)]\n",
    "    return avg_calc\n",
    "print(avg_calc)"
   ]
  },
  {
   "cell_type": "code",
   "execution_count": 42,
   "id": "550a19fd-36ef-402d-aa35-938b7a8817ba",
   "metadata": {},
   "outputs": [
    {
     "ename": "NameError",
     "evalue": "name 'totalprofit_losses' is not defined",
     "output_type": "error",
     "traceback": [
      "\u001b[0;31m---------------------------------------------------------------------------\u001b[0m",
      "\u001b[0;31mNameError\u001b[0m                                 Traceback (most recent call last)",
      "\u001b[0;32m<ipython-input-42-4b74c4770088>\u001b[0m in \u001b[0;36m<module>\u001b[0;34m\u001b[0m\n\u001b[0;32m----> 1\u001b[0;31m \u001b[0maverage_change\u001b[0m \u001b[0;34m=\u001b[0m \u001b[0;34m(\u001b[0m\u001b[0mtotalprofit_losses\u001b[0m\u001b[0;34m-\u001b[0m\u001b[0mlosses\u001b[0m\u001b[0;34m)\u001b[0m\u001b[0;34m\u001b[0m\u001b[0;34m\u001b[0m\u001b[0m\n\u001b[0m",
      "\u001b[0;31mNameError\u001b[0m: name 'totalprofit_losses' is not defined"
     ]
    }
   ],
   "source": [
    "average_change = (totalprofit_losses-losses)"
   ]
  },
  {
   "cell_type": "code",
   "execution_count": 22,
   "id": "13bdcd7b-e905-4175-956e-23c363a1e916",
   "metadata": {},
   "outputs": [
    {
     "name": "stdout",
     "output_type": "stream",
     "text": [
      "<function average_change at 0x10d0f5820>\n"
     ]
    }
   ],
   "source": [
    "print (average_change)"
   ]
  },
  {
   "cell_type": "code",
   "execution_count": null,
   "id": "cc40c08a-4c1a-49a5-b2f7-4dfa91ecf4f9",
   "metadata": {},
   "outputs": [],
   "source": []
  }
 ],
 "metadata": {
  "kernelspec": {
   "display_name": "Python 3",
   "language": "python",
   "name": "python3"
  },
  "language_info": {
   "codemirror_mode": {
    "name": "ipython",
    "version": 3
   },
   "file_extension": ".py",
   "mimetype": "text/x-python",
   "name": "python",
   "nbconvert_exporter": "python",
   "pygments_lexer": "ipython3",
   "version": "3.8.8"
  }
 },
 "nbformat": 4,
 "nbformat_minor": 5
}
