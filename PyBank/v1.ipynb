{
 "cells": [
  {
   "cell_type": "code",
   "execution_count": 1,
   "id": "39aab212-d836-4d49-be6a-9a8dc2a79319",
   "metadata": {},
   "outputs": [],
   "source": [
    "import csv\n"
   ]
  },
  {
   "cell_type": "code",
   "execution_count": 2,
   "id": "bd71b7ad-2a9c-4d2d-a35b-d19e4df381ab",
   "metadata": {},
   "outputs": [],
   "source": [
    "f = open('PyBank_budget_data.csv')"
   ]
  },
  {
   "cell_type": "code",
   "execution_count": 3,
   "id": "288159dc-24e2-4690-b406-dbb85a66f7d8",
   "metadata": {},
   "outputs": [],
   "source": [
    "csv_f = csv.reader(f)"
   ]
  },
  {
   "cell_type": "code",
   "execution_count": 4,
   "id": "1d610ad7-6d5a-43d4-b249-692b54828979",
   "metadata": {},
   "outputs": [],
   "source": [
    "Months = []\n",
    "profit_losses = []\n"
   ]
  },
  {
   "cell_type": "code",
   "execution_count": 5,
   "id": "aa2cca4d-6a73-4cdd-9518-fdb902a0bdd3",
   "metadata": {},
   "outputs": [
    {
     "name": "stdout",
     "output_type": "stream",
     "text": [
      "['Date', 'Profit/Losses']\n"
     ]
    }
   ],
   "source": [
    "csv_header = next(csv_f)\n",
    "\n",
    "print(csv_header)"
   ]
  },
  {
   "cell_type": "code",
   "execution_count": 6,
   "id": "38dbf9f4-cc75-4304-81c2-7c7fe995a7c5",
   "metadata": {},
   "outputs": [],
   "source": [
    "for row in csv_f:\n",
    "    Months.append(row[0])\n",
    "    profit_losses.append(row[1])\n"
   ]
  },
  {
   "cell_type": "code",
   "execution_count": 7,
   "id": "feb37e26-c6b6-4604-91c9-1e335de9ff8b",
   "metadata": {},
   "outputs": [
    {
     "name": "stdout",
     "output_type": "stream",
     "text": [
      "['Jan-2010', 'Feb-2010', 'Mar-2010', 'Apr-2010', 'May-2010', 'Jun-2010', 'Jul-2010', 'Aug-2010', 'Sep-2010', 'Oct-2010', 'Nov-2010', 'Dec-2010', 'Jan-2011', 'Feb-2011', 'Mar-2011', 'Apr-2011', 'May-2011', 'Jun-2011', 'Jul-2011', 'Aug-2011', 'Sep-2011', 'Oct-2011', 'Nov-2011', 'Dec-2011', 'Jan-2012', 'Feb-2012', 'Mar-2012', 'Apr-2012', 'May-2012', 'Jun-2012', 'Jul-2012', 'Aug-2012', 'Sep-2012', 'Oct-2012', 'Nov-2012', 'Dec-2012', 'Jan-2013', 'Feb-2013', 'Mar-2013', 'Apr-2013', 'May-2013', 'Jun-2013', 'Jul-2013', 'Aug-2013', 'Sep-2013', 'Oct-2013', 'Nov-2013', 'Dec-2013', 'Jan-2014', 'Feb-2014', 'Mar-2014', 'Apr-2014', 'May-2014', 'Jun-2014', 'Jul-2014', 'Aug-2014', 'Sep-2014', 'Oct-2014', 'Nov-2014', 'Dec-2014', 'Jan-2015', 'Feb-2015', 'Mar-2015', 'Apr-2015', 'May-2015', 'Jun-2015', 'Jul-2015', 'Aug-2015', 'Sep-2015', 'Oct-2015', 'Nov-2015', 'Dec-2015', 'Jan-2016', 'Feb-2016', 'Mar-2016', 'Apr-2016', 'May-2016', 'Jun-2016', 'Jul-2016', 'Aug-2016', 'Sep-2016', 'Oct-2016', 'Nov-2016', 'Dec-2016', 'Jan-2017', 'Feb-2017']\n"
     ]
    }
   ],
   "source": [
    "print (Months)"
   ]
  },
  {
   "cell_type": "code",
   "execution_count": 8,
   "id": "8891fa3b-8ba3-4e84-bc2b-dd57213347dc",
   "metadata": {},
   "outputs": [
    {
     "name": "stdout",
     "output_type": "stream",
     "text": [
      "86\n",
      "86\n"
     ]
    }
   ],
   "source": [
    "print (len(Months))\n",
    "print (len(profit_losses))\n"
   ]
  },
  {
   "cell_type": "code",
   "execution_count": 9,
   "id": "c2b67988-2f64-4898-96e9-c2198fad91bc",
   "metadata": {},
   "outputs": [
    {
     "name": "stdout",
     "output_type": "stream",
     "text": [
      "['867884', '984655', '322013', '-69417', '310503', '522857', '1033096', '604885', '-216386', '477532', '893810', '-80353', '779806', '-335203', '697845', '793163', '485070', '584122', '62729', '668179', '899906', '834719', '132003', '309978', '-755566', '1170593', '252788', '1151518', '817256', '570757', '506702', '-1022534', '475062', '779976', '144175', '542494', '359333', '321469', '67780', '471435', '565603', '872480', '789480', '999942', '-1196225', '268997', '-687986', '1150461', '682458', '617856', '824098', '581943', '132864', '448062', '689161', '800701', '1166643', '947333', '578668', '988505', '1139715', '1029471', '687533', '-524626', '158620', '87795', '423389', '840723', '568529', '332067', '989499', '778237', '650000', '-1100387', '-174946', '757143', '445709', '712961', '-1163797', '569899', '768450', '102685', '795914', '60988', '138230', '671099']\n"
     ]
    }
   ],
   "source": [
    "print (profit_losses)"
   ]
  },
  {
   "cell_type": "code",
   "execution_count": 10,
   "id": "2db163f8-e7f5-4eb8-b228-258ee5b2224f",
   "metadata": {},
   "outputs": [
    {
     "name": "stdout",
     "output_type": "stream",
     "text": [
      "[867884, 984655, 322013, -69417, 310503, 522857, 1033096, 604885, -216386, 477532, 893810, -80353, 779806, -335203, 697845, 793163, 485070, 584122, 62729, 668179, 899906, 834719, 132003, 309978, -755566, 1170593, 252788, 1151518, 817256, 570757, 506702, -1022534, 475062, 779976, 144175, 542494, 359333, 321469, 67780, 471435, 565603, 872480, 789480, 999942, -1196225, 268997, -687986, 1150461, 682458, 617856, 824098, 581943, 132864, 448062, 689161, 800701, 1166643, 947333, 578668, 988505, 1139715, 1029471, 687533, -524626, 158620, 87795, 423389, 840723, 568529, 332067, 989499, 778237, 650000, -1100387, -174946, 757143, 445709, 712961, -1163797, 569899, 768450, 102685, 795914, 60988, 138230, 671099]\n"
     ]
    }
   ],
   "source": [
    "\n",
    "ints = [int(item) for item in profit_losses]\n",
    "print(ints)"
   ]
  },
  {
   "cell_type": "code",
   "execution_count": 11,
   "id": "ed4df822-0f6b-4eb0-9d38-5f1dd9014e3e",
   "metadata": {},
   "outputs": [
    {
     "data": {
      "text/plain": [
       "38382578"
      ]
     },
     "execution_count": 11,
     "metadata": {},
     "output_type": "execute_result"
    }
   ],
   "source": [
    "sum(ints)\n"
   ]
  },
  {
   "cell_type": "code",
   "execution_count": 12,
   "id": "f3e58f1b-aaee-4e4b-ac72-b1f0eae7fd0c",
   "metadata": {},
   "outputs": [
    {
     "ename": "TypeError",
     "evalue": "int() argument must be a string, a bytes-like object or a number, not 'list'",
     "output_type": "error",
     "traceback": [
      "\u001b[0;31m---------------------------------------------------------------------------\u001b[0m",
      "\u001b[0;31mTypeError\u001b[0m                                 Traceback (most recent call last)",
      "\u001b[0;32m<ipython-input-12-7ed50282c462>\u001b[0m in \u001b[0;36m<module>\u001b[0;34m\u001b[0m\n\u001b[1;32m      1\u001b[0m \u001b[0mngn\u001b[0m \u001b[0;34m=\u001b[0m \u001b[0;34m[\u001b[0m\u001b[0mints\u001b[0m\u001b[0;34m]\u001b[0m\u001b[0;34m\u001b[0m\u001b[0;34m\u001b[0m\u001b[0m\n\u001b[0;32m----> 2\u001b[0;31m \u001b[0mngn\u001b[0m\u001b[0;34m.\u001b[0m\u001b[0msort\u001b[0m\u001b[0;34m(\u001b[0m\u001b[0mkey\u001b[0m \u001b[0;34m=\u001b[0m \u001b[0mint\u001b[0m\u001b[0;34m)\u001b[0m\u001b[0;34m\u001b[0m\u001b[0;34m\u001b[0m\u001b[0m\n\u001b[0m\u001b[1;32m      3\u001b[0m \u001b[0mprint\u001b[0m\u001b[0;34m(\u001b[0m\u001b[0mngn\u001b[0m\u001b[0;34m)\u001b[0m\u001b[0;34m\u001b[0m\u001b[0;34m\u001b[0m\u001b[0m\n",
      "\u001b[0;31mTypeError\u001b[0m: int() argument must be a string, a bytes-like object or a number, not 'list'"
     ]
    }
   ],
   "source": [
    "ngn = [ints]\n",
    "ngn.sort(key = int)\n",
    "print(ngn)"
   ]
  },
  {
   "cell_type": "code",
   "execution_count": 168,
   "id": "cad24a2a-f29e-44e1-a5a5-dd4653e8aae0",
   "metadata": {},
   "outputs": [
    {
     "ename": "SyntaxError",
     "evalue": "invalid syntax (<ipython-input-168-6a99eb507a8b>, line 1)",
     "output_type": "error",
     "traceback": [
      "\u001b[0;36m  File \u001b[0;32m\"<ipython-input-168-6a99eb507a8b>\"\u001b[0;36m, line \u001b[0;32m1\u001b[0m\n\u001b[0;31m    ngtvnumbers =  for int in ints]\u001b[0m\n\u001b[0m                   ^\u001b[0m\n\u001b[0;31mSyntaxError\u001b[0m\u001b[0;31m:\u001b[0m invalid syntax\n"
     ]
    }
   ],
   "source": [
    "ngtvnumbers =  for int in ints]\n",
    "\n",
    "print(ngtvnumbers)"
   ]
  },
  {
   "cell_type": "code",
   "execution_count": 169,
   "id": "4be883b0-805d-4330-88ca-6615b23bdb6d",
   "metadata": {},
   "outputs": [
    {
     "name": "stdout",
     "output_type": "stream",
     "text": [
      "[-867884, -984655, -322013, 69417, -310503, -522857, -1033096, -604885, 216386, -477532, -893810, 80353, -779806, 335203, -697845, -793163, -485070, -584122, -62729, -668179, -899906, -834719, -132003, -309978, 755566, -1170593, -252788, -1151518, -817256, -570757, -506702, 1022534, -475062, -779976, -144175, -542494, -359333, -321469, -67780, -471435, -565603, -872480, -789480, -999942, 1196225, -268997, 687986, -1150461, -682458, -617856, -824098, -581943, -132864, -448062, -689161, -800701, -1166643, -947333, -578668, -988505, -1139715, -1029471, -687533, 524626, -158620, -87795, -423389, -840723, -568529, -332067, -989499, -778237, -650000, 1100387, 174946, -757143, -445709, -712961, 1163797, -569899, -768450, -102685, -795914, -60988, -138230, -671099]\n"
     ]
    }
   ],
   "source": [
    "\n",
    "intsngtv = [+-int(item) for item in ints]\n",
    "print(intsngtv)"
   ]
  },
  {
   "cell_type": "code",
   "execution_count": 170,
   "id": "588e84bd-214e-475b-8240-073b773cc5b6",
   "metadata": {},
   "outputs": [
    {
     "data": {
      "text/plain": [
       "38382578"
      ]
     },
     "execution_count": 170,
     "metadata": {},
     "output_type": "execute_result"
    }
   ],
   "source": [
    "-sum(intsngtv)"
   ]
  },
  {
   "cell_type": "code",
   "execution_count": 171,
   "id": "e1b8270d-c459-49e4-bcde-88c393dba583",
   "metadata": {},
   "outputs": [],
   "source": [
    "totalprofit_losses = sum (ints)\n",
    "losses = sum (intsngtv)"
   ]
  },
  {
   "cell_type": "code",
   "execution_count": null,
   "id": "3baeeb60-fc7a-4175-b6c1-ac83d40bce2a",
   "metadata": {},
   "outputs": [],
   "source": []
  },
  {
   "cell_type": "code",
   "execution_count": 172,
   "id": "550a19fd-36ef-402d-aa35-938b7a8817ba",
   "metadata": {},
   "outputs": [],
   "source": [
    "average_change = (totalprofit_losses-losses)"
   ]
  },
  {
   "cell_type": "code",
   "execution_count": 173,
   "id": "13bdcd7b-e905-4175-956e-23c363a1e916",
   "metadata": {},
   "outputs": [
    {
     "name": "stdout",
     "output_type": "stream",
     "text": [
      "76765156\n"
     ]
    }
   ],
   "source": [
    "print (average_change)"
   ]
  },
  {
   "cell_type": "code",
   "execution_count": null,
   "id": "cc40c08a-4c1a-49a5-b2f7-4dfa91ecf4f9",
   "metadata": {},
   "outputs": [],
   "source": []
  }
 ],
 "metadata": {
  "kernelspec": {
   "display_name": "Python 3",
   "language": "python",
   "name": "python3"
  },
  "language_info": {
   "codemirror_mode": {
    "name": "ipython",
    "version": 3
   },
   "file_extension": ".py",
   "mimetype": "text/x-python",
   "name": "python",
   "nbconvert_exporter": "python",
   "pygments_lexer": "ipython3",
   "version": "3.8.8"
  }
 },
 "nbformat": 4,
 "nbformat_minor": 5
}
