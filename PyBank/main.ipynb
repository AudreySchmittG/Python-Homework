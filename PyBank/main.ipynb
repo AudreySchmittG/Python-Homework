{
 "cells": [
  {
   "cell_type": "code",
   "execution_count": 9,
   "id": "aeb85952-9257-4faf-955f-831615922654",
   "metadata": {},
   "outputs": [],
   "source": [
    "# Dependencies:\n",
    "\n",
    "from pathlib import Path\n",
    "import csv"
   ]
  },
  {
   "cell_type": "code",
   "execution_count": 10,
   "id": "bd71b7ad-2a9c-4d2d-a35b-d19e4df381ab",
   "metadata": {},
   "outputs": [],
   "source": [
    "# Open the file\n",
    "f = open('PyBank_budget_data.csv')"
   ]
  },
  {
   "cell_type": "code",
   "execution_count": 11,
   "id": "288159dc-24e2-4690-b406-dbb85a66f7d8",
   "metadata": {},
   "outputs": [],
   "source": [
    "# Read the open file (f)\n",
    "csv_f = csv.reader(f)"
   ]
  },
  {
   "cell_type": "code",
   "execution_count": 12,
   "id": "4d42a60c-9f73-41ea-9c73-64bb5d5156e4",
   "metadata": {},
   "outputs": [],
   "source": [
    "# Assign your list - based on the current file data\n",
    "Months = []\n",
    "profit_losses = []\n",
    "\n",
    "# Assign your list - any additional list needed to conduct analysis:\n",
    "# Monthly_PC = Monthly Profit Change\n",
    "Monthly_PC = []\n",
    "\n"
   ]
  },
  {
   "cell_type": "code",
   "execution_count": 13,
   "id": "79b3cee7-5190-4a79-ac4c-818ffae0b464",
   "metadata": {},
   "outputs": [
    {
     "name": "stdout",
     "output_type": "stream",
     "text": [
      "['Date', 'Profit/Losses']\n"
     ]
    }
   ],
   "source": [
    "# Print Header (exclude the header from any calculation)\n",
    "csv_header = next(csv_f)\n",
    "\n",
    "print(csv_header)"
   ]
  },
  {
   "cell_type": "code",
   "execution_count": 14,
   "id": "38dbf9f4-cc75-4304-81c2-7c7fe995a7c5",
   "metadata": {},
   "outputs": [],
   "source": [
    "# Fill your lists with the column information: row[0] is the items in the FIRST column, row[1] items in the SECOND column \n",
    "# Note that we want to define the items in the second column (row[1]) as intergers\n",
    "for row in csv_f:\n",
    "    Months.append(row[0])\n",
    "    profit_losses.append (int(row[1]))\n"
   ]
  },
  {
   "cell_type": "code",
   "execution_count": 15,
   "id": "feb37e26-c6b6-4604-91c9-1e335de9ff8b",
   "metadata": {},
   "outputs": [
    {
     "name": "stdout",
     "output_type": "stream",
     "text": [
      "['Jan-2010', 'Feb-2010', 'Mar-2010', 'Apr-2010', 'May-2010', 'Jun-2010', 'Jul-2010', 'Aug-2010', 'Sep-2010', 'Oct-2010', 'Nov-2010', 'Dec-2010', 'Jan-2011', 'Feb-2011', 'Mar-2011', 'Apr-2011', 'May-2011', 'Jun-2011', 'Jul-2011', 'Aug-2011', 'Sep-2011', 'Oct-2011', 'Nov-2011', 'Dec-2011', 'Jan-2012', 'Feb-2012', 'Mar-2012', 'Apr-2012', 'May-2012', 'Jun-2012', 'Jul-2012', 'Aug-2012', 'Sep-2012', 'Oct-2012', 'Nov-2012', 'Dec-2012', 'Jan-2013', 'Feb-2013', 'Mar-2013', 'Apr-2013', 'May-2013', 'Jun-2013', 'Jul-2013', 'Aug-2013', 'Sep-2013', 'Oct-2013', 'Nov-2013', 'Dec-2013', 'Jan-2014', 'Feb-2014', 'Mar-2014', 'Apr-2014', 'May-2014', 'Jun-2014', 'Jul-2014', 'Aug-2014', 'Sep-2014', 'Oct-2014', 'Nov-2014', 'Dec-2014', 'Jan-2015', 'Feb-2015', 'Mar-2015', 'Apr-2015', 'May-2015', 'Jun-2015', 'Jul-2015', 'Aug-2015', 'Sep-2015', 'Oct-2015', 'Nov-2015', 'Dec-2015', 'Jan-2016', 'Feb-2016', 'Mar-2016', 'Apr-2016', 'May-2016', 'Jun-2016', 'Jul-2016', 'Aug-2016', 'Sep-2016', 'Oct-2016', 'Nov-2016', 'Dec-2016', 'Jan-2017', 'Feb-2017']\n"
     ]
    }
   ],
   "source": [
    "print (Months)"
   ]
  },
  {
   "cell_type": "code",
   "execution_count": 16,
   "id": "207fc035-c303-49d7-aa92-2db7e0c99476",
   "metadata": {},
   "outputs": [
    {
     "name": "stdout",
     "output_type": "stream",
     "text": [
      "[867884, 984655, 322013, -69417, 310503, 522857, 1033096, 604885, -216386, 477532, 893810, -80353, 779806, -335203, 697845, 793163, 485070, 584122, 62729, 668179, 899906, 834719, 132003, 309978, -755566, 1170593, 252788, 1151518, 817256, 570757, 506702, -1022534, 475062, 779976, 144175, 542494, 359333, 321469, 67780, 471435, 565603, 872480, 789480, 999942, -1196225, 268997, -687986, 1150461, 682458, 617856, 824098, 581943, 132864, 448062, 689161, 800701, 1166643, 947333, 578668, 988505, 1139715, 1029471, 687533, -524626, 158620, 87795, 423389, 840723, 568529, 332067, 989499, 778237, 650000, -1100387, -174946, 757143, 445709, 712961, -1163797, 569899, 768450, 102685, 795914, 60988, 138230, 671099]\n"
     ]
    }
   ],
   "source": [
    "print (profit_losses)"
   ]
  },
  {
   "cell_type": "code",
   "execution_count": 17,
   "id": "8891fa3b-8ba3-4e84-bc2b-dd57213347dc",
   "metadata": {},
   "outputs": [
    {
     "name": "stdout",
     "output_type": "stream",
     "text": [
      "86\n",
      "86\n"
     ]
    }
   ],
   "source": [
    "# len will give you the length count of the column\n",
    "print (len(Months))\n",
    "print (len(profit_losses))\n"
   ]
  },
  {
   "cell_type": "code",
   "execution_count": 18,
   "id": "a6142e53-f585-4833-9250-de38b4aae6b5",
   "metadata": {},
   "outputs": [
    {
     "name": "stdout",
     "output_type": "stream",
     "text": [
      "-2315.1176470588234\n"
     ]
    }
   ],
   "source": [
    "# One way to get the average chage over a period of time - by defining a formula\n",
    "\n",
    "proffit_loss_change = profit_losses[-1]-profit_losses[0]\n",
    "time_change = len(profit_losses)-1\n",
    "\n",
    "average_change_overperiod = proffit_loss_change/time_change\n",
    "\n",
    "print(average_change_overperiod)\n",
    "\n"
   ]
  },
  {
   "cell_type": "code",
   "execution_count": 19,
   "id": "cc40c08a-4c1a-49a5-b2f7-4dfa91ecf4f9",
   "metadata": {},
   "outputs": [],
   "source": [
    "# To populate the list created with the monthly profit change (difference between current month and previous month)\n",
    "\n",
    "for PL in range(len(profit_losses)-1):\n",
    "    Monthly_PC.append(profit_losses[PL+1]-profit_losses[PL])\n",
    "    "
   ]
  },
  {
   "cell_type": "code",
   "execution_count": 20,
   "id": "785ff3a4-59c0-4d31-bc40-36b728d05ed3",
   "metadata": {},
   "outputs": [],
   "source": [
    "# Identify the max and min monthly profit change in list Monthly_PC\n",
    "greatestIP = max(Monthly_PC)\n",
    "greatestDP = min(Monthly_PC)\n"
   ]
  },
  {
   "cell_type": "code",
   "execution_count": 21,
   "id": "318335af-8381-4c5a-9614-a999f460b872",
   "metadata": {},
   "outputs": [
    {
     "name": "stdout",
     "output_type": "stream",
     "text": [
      "25\n",
      "44\n"
     ]
    }
   ],
   "source": [
    "# Correlate max and min to the proper month using month list and index from max and min\n",
    "# +1 is used beacause we are not including the header - that's why we used \"next\" at the begining \n",
    "\n",
    "greatestIPM = Monthly_PC.index(max(Monthly_PC))+1 \n",
    "greatestDPM = Monthly_PC.index(min(Monthly_PC))+1\n",
    "\n",
    "print(greatestIPM)\n",
    "print(greatestDPM)\n"
   ]
  },
  {
   "cell_type": "code",
   "execution_count": 22,
   "id": "2797eee5-2bf4-4228-8213-2047488b5041",
   "metadata": {},
   "outputs": [
    {
     "name": "stdout",
     "output_type": "stream",
     "text": [
      "Financial Analysis\n",
      "_____________________\n",
      "Total Months: 86\n",
      "Total: $38382578\n",
      "Average Change: -2315.12\n",
      "Greatest Increase in Profits: Feb-2012 ($1926159)\n",
      "Greatest Decrease in Profits: Sep-2013 ($-2196167)\n"
     ]
    }
   ],
   "source": [
    "# Print Analysis:\n",
    "\n",
    "print(\"Financial Analysis\")\n",
    "print(\"_____________________\")\n",
    "print(f\"Total Months: {len(Months)}\")\n",
    "print(f\"Total: ${sum(profit_losses)}\")\n",
    "print(f\"Average Change: {round(sum(Monthly_PC)/len(Monthly_PC),2)}\")\n",
    "print(f\"Greatest Increase in Profits: {Months[greatestIPM]} (${(str(greatestIP))})\")\n",
    "print(f\"Greatest Decrease in Profits: {Months[(greatestDPM)]} (${(str(greatestDP))})\")\n"
   ]
  },
  {
   "cell_type": "code",
   "execution_count": 23,
   "id": "cc250dd6-1aec-43d3-b5e4-4a0aaf6f0f0d",
   "metadata": {},
   "outputs": [],
   "source": [
    "# Output the file \n",
    "output_file = Path(\"Python-Homework\", \"Financial_Analysis_PyBankSummary.txt\")"
   ]
  },
  {
   "cell_type": "code",
   "execution_count": null,
   "id": "69743044-0e1f-487d-8d7a-d4cd4a71752f",
   "metadata": {},
   "outputs": [],
   "source": []
  }
 ],
 "metadata": {
  "kernelspec": {
   "display_name": "Python 3",
   "language": "python",
   "name": "python3"
  },
  "language_info": {
   "codemirror_mode": {
    "name": "ipython",
    "version": 3
   },
   "file_extension": ".py",
   "mimetype": "text/x-python",
   "name": "python",
   "nbconvert_exporter": "python",
   "pygments_lexer": "ipython3",
   "version": "3.8.8"
  }
 },
 "nbformat": 4,
 "nbformat_minor": 5
}
